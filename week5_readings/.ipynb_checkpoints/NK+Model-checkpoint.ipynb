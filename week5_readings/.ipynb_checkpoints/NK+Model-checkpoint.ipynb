{
 "cells": [
  {
   "cell_type": "code",
   "execution_count": 2,
   "metadata": {},
   "outputs": [],
   "source": [
    "import pandas as pd\n",
    "import networkx as net\n",
    "import numpy as num\n",
    "from random import random,randint \n",
    "%matplotlib inline"
   ]
  },
  {
   "cell_type": "code",
   "execution_count": 27,
   "metadata": {},
   "outputs": [
    {
     "name": "stdout",
     "output_type": "stream",
     "text": [
      "(array([0., 0., 0., 0., 0., 0., 0., 0., 0., 0.]), '\\n', [-0.46322122137325106, 0.19027436985705604, -0.3658322463029169, 0.23983662110705972, 0.405851867536955, -0.33953644007313566, -0.22449676576358601, 0.29054634677799673, -0.14758547246805442, -0.4899722018118918])\n"
     ]
    }
   ],
   "source": [
    "n=10\n",
    "k=4\n",
    "world = num.zeros(n)\n",
    "weights = [random()-0.5 for _ in range(n)]\n",
    "print(world,'\\n',weights)"
   ]
  },
  {
   "cell_type": "code",
   "execution_count": 82,
   "metadata": {},
   "outputs": [],
   "source": [
    "def utility(world, weights,n):\n",
    "    return(sum([world[i]*weights[i] for i in range(n)]))\n",
    "\n",
    "def utility_k(world,weights,n,k=0):\n",
    "    out = 0\n",
    "    for i in range(n):\n",
    "        z=0\n",
    "#        print(\"@@\",i)\n",
    "        for x in range(i-k, i+k):\n",
    " #           print(x)\n",
    "            if x>=0 and x<n:\n",
    "                z+=world[x]*weights[x]\n",
    "            if x<0:\n",
    " #               print(x,'>>>', n+x)\n",
    "                z+=world[n+x]*weights[n+x]\n",
    "\n",
    "            if x>n:\n",
    "                z+=world[x-n]*weights[x-n]\n",
    " #               print(x,'<<<', x-n)\n",
    "        out+=z\n",
    "    return out"
   ]
  },
  {
   "cell_type": "code",
   "execution_count": 37,
   "metadata": {},
   "outputs": [
    {
     "data": {
      "text/plain": [
       "9.01207364223254"
      ]
     },
     "execution_count": 37,
     "metadata": {},
     "output_type": "execute_result"
    }
   ],
   "source": [
    "utility_k(world,weights,len(world),k=4)"
   ]
  },
  {
   "cell_type": "code",
   "execution_count": 107,
   "metadata": {},
   "outputs": [],
   "source": [
    "def step(world):\n",
    "    i=randint(0,len(world)-1)\n",
    "    w2=world.copy()\n",
    "    if world[i]:\n",
    "        w2[i]=0\n",
    "    else:\n",
    "        w2[i]=1\n",
    "    return w2\n",
    "\n",
    "def random_state(world):\n",
    "    return([randint(0,1) for _ in len(world)])"
   ]
  },
  {
   "cell_type": "code",
   "execution_count": 102,
   "metadata": {},
   "outputs": [],
   "source": [
    "def monte_carlo(world, weights, n,k):\n",
    "    data = pd.DataFrame()\n",
    "    for _ in range(1000):\n",
    "        w= random_state(world)\n",
    "        u1 = utility_k(world,weights,n,k=k)\n",
    "        data=data.append({'u':u},ignore_index=True)\n",
    "    return(data)\n",
    "\n",
    "def gradient_ascent(world, weights, n,k):\n",
    "    data = pd.DataFrame()\n",
    "    for _ in range(1000):\n",
    "        u1 = utility_k(world,weights,n,k=k)\n",
    "        u=u1\n",
    "        world2 = step(world)\n",
    "        u2 = utility_k(world2,weights,n,k=k)\n",
    "        if u2 > u1:\n",
    "            world=world2\n",
    "            u=u2   \n",
    "        data=data.append({'u':u},ignore_index=True)\n",
    "    return(data)\n",
    "\n",
    "def sim_annealing(world, weights, n,k):\n",
    "    data = pd.DataFrame()\n",
    "    temperature =1\n",
    "    for _ in range(1000):\n",
    "        u1 = utility_k(world,weights,n,k=k)\n",
    "        u=u1\n",
    "        world2 = step(world)\n",
    "        u2 = utility_k(world2,weights,n,k=k)\n",
    "        if u2 > u1:\n",
    "            world=world2\n",
    "            u=u2\n",
    "        elif random()<temperature:\n",
    "            world=world2\n",
    "            u=u2\n",
    "\n",
    "        data=data.append({'t':temperature,'u':u},ignore_index=True)\n",
    "        temperature = temperature-temperature*0.01\n",
    "    return data\n"
   ]
  },
  {
   "cell_type": "code",
   "execution_count": 106,
   "metadata": {},
   "outputs": [
    {
     "data": {
      "text/plain": [
       "<matplotlib.axes._subplots.AxesSubplot at 0x1233e43d0>"
      ]
     },
     "execution_count": 106,
     "metadata": {},
     "output_type": "execute_result"
    },
    {
     "data": {
      "image/png": "[encoded data removed]",
      "text/plain": [
       "<Figure size 432x288 with 1 Axes>"
      ]
     },
     "metadata": {},
     "output_type": "display_data"
    }
   ],
   "source": [
    "n=100\n",
    "k=20\n",
    "world = num.zeros(n)\n",
    "weights = [random()-0.5 for _ in range(n)]\n",
    "results = pd.DataFrame({\n",
    "    'gradient_ascent':gradient_ascent(world, weights, n,k)['u'],\n",
    "    'sim_anneal':sim_annealing(world, weights, n,k)['u']}\n",
    ")\n",
    "results.plot()"
   ]
  },
  {
   "cell_type": "code",
   "execution_count": null,
   "metadata": {},
   "outputs": [],
   "source": []
  }
 ],
 "metadata": {
  "kernelspec": {
   "display_name": "Python 2",
   "language": "python",
   "name": "python2"
  },
  "language_info": {
   "codemirror_mode": {
    "name": "ipython",
    "version": 2
   },
   "file_extension": ".py",
   "mimetype": "text/x-python",
   "name": "python",
   "nbconvert_exporter": "python",
   "pygments_lexer": "ipython2",
   "version": "2.7.15"
  }
 },
 "nbformat": 4,
 "nbformat_minor": 1
}
